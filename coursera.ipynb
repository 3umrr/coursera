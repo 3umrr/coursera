{
 "cells": [
  {
   "cell_type": "markdown",
   "id": "58b0a5d2-50b5-4ba2-a111-03d9f30663d7",
   "metadata": {},
   "source": [
    "# Data Science Project\n"
   ]
  },
  {
   "cell_type": "markdown",
   "id": "91a6a4b9-4750-46eb-8bef-cde35371ff68",
   "metadata": {},
   "source": [
    "## Introduction\n",
    "This notebook contains a variety of exercises related to data science topics. It includes examples of data science languages, libraries, tools, and arithmetic operations.\n"
   ]
  },
  {
   "cell_type": "markdown",
   "id": "6fc9f42c-01c2-451d-9229-47474478b353",
   "metadata": {},
   "source": [
    "## Data Science Languages\n",
    "- Python\n",
    "- R\n",
    "- SQL\n",
    "- Julia\n",
    "- Java\n"
   ]
  },
  {
   "cell_type": "markdown",
   "id": "7067e65d-4fb7-4a36-b064-bb596e5ae600",
   "metadata": {},
   "source": [
    "## Data Science Libraries\n",
    "- NumPy\n",
    "- Pandas\n",
    "- Matplotlib\n",
    "- Scikit-learn\n",
    "- TensorFlow\n"
   ]
  },
  {
   "cell_type": "markdown",
   "id": "7557abf1-b841-4b41-9d56-ebf6b9deafc1",
   "metadata": {},
   "source": [
    "## Data Science Tools\n",
    "\n",
    "| Tool       | Description                            |\n",
    "|------------|----------------------------------------|\n",
    "| Jupyter    | Open-source web application for coding |\n",
    "| VS Code    | Code editor for data science projects |\n",
    "| GitHub     | Platform for version control           |\n",
    "| Anaconda   | Distribution for data science tools    |\n"
   ]
  },
  {
   "cell_type": "markdown",
   "id": "78e751d8-275e-438f-ac6d-01bc80bbb449",
   "metadata": {},
   "source": [
    "# Arithmetic Expression Examples\n",
    "Here we demonstrate basic arithmetic operations:\n"
   ]
  },
  {
   "cell_type": "code",
   "execution_count": 14,
   "id": "af1a66b5-9b93-4a80-8389-ee658fbdfa48",
   "metadata": {},
   "outputs": [
    {
     "name": "stdout",
     "output_type": "stream",
     "text": [
      "15\n",
      "50\n"
     ]
    }
   ],
   "source": [
    "a=5\n",
    "b=10\n",
    "print(a+b)\n",
    "print(a*b)"
   ]
  },
  {
   "cell_type": "code",
   "execution_count": 18,
   "id": "5eecac54-e5d9-4340-9ee6-e1c2a85576a8",
   "metadata": {},
   "outputs": [
    {
     "data": {
      "text/plain": [
       "2.5"
      ]
     },
     "execution_count": 18,
     "metadata": {},
     "output_type": "execute_result"
    }
   ],
   "source": [
    "minutes = 150\n",
    "hours = minutes / 60\n",
    "hours\n"
   ]
  },
  {
   "cell_type": "markdown",
   "id": "44613e02-5610-4f92-a2b6-a48821c2a5dd",
   "metadata": {},
   "source": [
    "## Objectives\n",
    "- Learn about various data science languages.\n",
    "- Explore popular libraries and tools for data science.\n",
    "- Practice basic arithmetic and conversion operations in Python.\n"
   ]
  },
  {
   "cell_type": "markdown",
   "id": "99189457-9fb0-427a-a749-8c4964d0e802",
   "metadata": {},
   "source": [
    "## Author\n",
    "This notebook was created by [omar].\n"
   ]
  },
  {
   "cell_type": "code",
   "execution_count": null,
   "id": "0c950bba-3b0a-4841-9238-062b94667248",
   "metadata": {},
   "outputs": [],
   "source": []
  }
 ],
 "metadata": {
  "kernelspec": {
   "display_name": "Python 3 (ipykernel)",
   "language": "python",
   "name": "python3"
  },
  "language_info": {
   "codemirror_mode": {
    "name": "ipython",
    "version": 3
   },
   "file_extension": ".py",
   "mimetype": "text/x-python",
   "name": "python",
   "nbconvert_exporter": "python",
   "pygments_lexer": "ipython3",
   "version": "3.12.7"
  }
 },
 "nbformat": 4,
 "nbformat_minor": 5
}
